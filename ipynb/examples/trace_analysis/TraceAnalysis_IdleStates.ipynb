{
 "cells": [
  {
   "cell_type": "markdown",
   "metadata": {
    "collapsed": true
   },
   "source": [
    "# Trace Analysis Examples\n",
    "\n",
    "## Idle States Residency Analysis"
   ]
  },
  {
   "cell_type": "markdown",
   "metadata": {},
   "source": [
    "This notebook shows the features provided by the idle state analysis module. It will be necessary to collect the following events:\n",
    "\n",
    " - `cpu_idle`, to filter out intervals of time in which the CPU is idle\n",
    " - `sched_switch`, to recognise tasks on kernelshark\n",
    " \n",
    "Details on idle states profiling ar given in **Per-CPU/Per-Cluster Idle State Residency Profiling** below."
   ]
  },
  {
   "cell_type": "code",
   "execution_count": 1,
   "metadata": {
    "collapsed": false,
    "run_control": {
     "marked": false
    }
   },
   "outputs": [
    {
     "name": "stderr",
     "output_type": "stream",
     "text": [
      "2016-12-07 18:19:51,925 INFO    : root         : Using LISA logging configuration:\n",
      "2016-12-07 18:19:51,925 INFO    : root         :   /home/vagrant/lisa/logging.conf\n"
     ]
    }
   ],
   "source": [
    "import logging\n",
    "from conf import LisaLogging\n",
    "LisaLogging.setup()"
   ]
  },
  {
   "cell_type": "code",
   "execution_count": 2,
   "metadata": {
    "collapsed": false,
    "run_control": {
     "marked": false
    }
   },
   "outputs": [],
   "source": [
    "%matplotlib inline\n",
    "\n",
    "import os\n",
    "\n",
    "# Support to access the remote target\n",
    "from env import TestEnv\n",
    "\n",
    "# Support to access cpuidle information from the target\n",
    "from devlib import *\n",
    "\n",
    "# Support to configure and run RTApp based workloads\n",
    "from wlgen import RTA, Ramp\n",
    "\n",
    "# Support for trace events analysis\n",
    "from trace import Trace\n",
    "\n",
    "# DataFrame support\n",
    "from pandas import DataFrame"
   ]
  },
  {
   "cell_type": "markdown",
   "metadata": {},
   "source": [
    "## Target Configuration\n",
    "The target configuration is used to describe and configure your test environment.\n",
    "You can find more details in **examples/utils/testenv_example.ipynb**.\n",
    "\n",
    "Our target is a Juno R0 development board running Linux."
   ]
  },
  {
   "cell_type": "code",
   "execution_count": 3,
   "metadata": {
    "collapsed": false,
    "run_control": {
     "marked": false
    }
   },
   "outputs": [],
   "source": [
    "# Setup a target configuration\n",
    "my_conf = {\n",
    "    \n",
    "    # Target platform and board\n",
    "    \"platform\"    : 'linux',\n",
    "    \"board\"       : 'juno',\n",
    "    \n",
    "    # Target board IP/MAC address\n",
    "    \"host\"        : '192.168.0.1',\n",
    "    \n",
    "    # Login credentials\n",
    "    \"username\"    : 'root',\n",
    "    \"password\"    : 'juno',\n",
    "    \n",
    "    \"results_dir\" : \"IdleAnalysis\",\n",
    "    \n",
    "    # RTApp calibration values (comment to let LISA do a calibration run)\n",
    "    \"rtapp-calib\" :  {\n",
    "        \"0\": 318, \"1\": 125, \"2\": 124, \"3\": 318, \"4\": 318, \"5\": 319\n",
    "    },\n",
    "    \n",
    "    # Tools required by the experiments\n",
    "    \"tools\"   : ['rt-app', 'trace-cmd'],\n",
    "    \"modules\" : ['bl', 'cpufreq', 'cpuidle'],\n",
    "    \"exclude_modules\" : ['hwmon'],\n",
    "    \n",
    "    # FTrace events to collect for all the tests configuration which have\n",
    "    # the \"ftrace\" flag enabled\n",
    "    \"ftrace\"  : {\n",
    "         \"events\" : [\n",
    "            \"cpu_idle\",\n",
    "            \"sched_switch\"\n",
    "         ],\n",
    "         \"buffsize\" : 10 * 1024,\n",
    "    },\n",
    "}"
   ]
  },
  {
   "cell_type": "code",
   "execution_count": 4,
   "metadata": {
    "collapsed": false,
    "run_control": {
     "marked": false
    },
    "scrolled": true
   },
   "outputs": [
    {
     "name": "stderr",
     "output_type": "stream",
     "text": [
      "2016-12-07 18:19:55,077 INFO    : TestEnv      : Using base path: /home/vagrant/lisa\n",
      "2016-12-07 18:19:55,078 INFO    : TestEnv      : Loading custom (inline) target configuration\n",
      "2016-12-07 18:19:55,078 INFO    : TestEnv      : Devlib modules to load: ['bl', 'cpuidle', 'cpufreq']\n",
      "2016-12-07 18:19:55,079 INFO    : TestEnv      : Connecting linux target:\n",
      "2016-12-07 18:19:55,079 INFO    : TestEnv      :   username : root\n",
      "2016-12-07 18:19:55,080 INFO    : TestEnv      :       host : 192.168.0.1\n",
      "2016-12-07 18:19:55,080 INFO    : TestEnv      :   password : juno\n",
      "2016-12-07 18:19:55,081 INFO    : TestEnv      : Connection settings:\n",
      "2016-12-07 18:19:55,081 INFO    : TestEnv      :    {'username': 'root', 'host': '192.168.0.1', 'password': 'juno'}\n",
      "2016-12-07 18:20:04,495 INFO    : TestEnv      : Initializing target workdir:\n",
      "2016-12-07 18:20:04,497 INFO    : TestEnv      :    /root/devlib-target\n",
      "2016-12-07 18:20:28,575 INFO    : TestEnv      : Topology:\n",
      "2016-12-07 18:20:28,576 INFO    : TestEnv      :    [[0, 3, 4, 5], [1, 2]]\n",
      "2016-12-07 18:20:30,241 INFO    : TestEnv      : Loading default EM:\n",
      "2016-12-07 18:20:30,243 INFO    : TestEnv      :    /home/vagrant/lisa/libs/utils/platforms/juno.json\n",
      "2016-12-07 18:20:34,565 INFO    : TestEnv      : Enabled tracepoints:\n",
      "2016-12-07 18:20:34,565 INFO    : TestEnv      :    cpu_idle\n",
      "2016-12-07 18:20:34,566 INFO    : TestEnv      :    sched_switch\n",
      "2016-12-07 18:20:34,566 WARNING : TestEnv      : Using configuration provided RTApp calibration\n",
      "2016-12-07 18:20:34,566 INFO    : TestEnv      : Using RT-App calibration values:\n",
      "2016-12-07 18:20:34,567 INFO    : TestEnv      :    {\"0\": 318, \"1\": 125, \"2\": 124, \"3\": 318, \"4\": 318, \"5\": 319}\n",
      "2016-12-07 18:20:34,568 INFO    : EnergyMeter  : HWMON module not enabled\n",
      "2016-12-07 18:20:34,570 WARNING : EnergyMeter  : Energy sampling disabled by configuration\n",
      "2016-12-07 18:20:34,571 INFO    : TestEnv      : Set results folder to:\n",
      "2016-12-07 18:20:34,572 INFO    : TestEnv      :    /home/vagrant/lisa/results/IdleAnalysis\n",
      "2016-12-07 18:20:34,574 INFO    : TestEnv      : Experiment results available also in:\n",
      "2016-12-07 18:20:34,576 INFO    : TestEnv      :    /home/vagrant/lisa/results_latest\n"
     ]
    }
   ],
   "source": [
    "# Initialize a test environment\n",
    "te = TestEnv(my_conf, wipe=False, force_new=True)\n",
    "target = te.target"
   ]
  },
  {
   "cell_type": "markdown",
   "metadata": {},
   "source": [
    "## Workload configuration and execution\n",
    "\n",
    "Detailed information on RTApp can be found in **examples/wlgen/rtapp_example.ipynb**."
   ]
  },
  {
   "cell_type": "code",
   "execution_count": 5,
   "metadata": {
    "collapsed": false,
    "scrolled": true
   },
   "outputs": [],
   "source": [
    "def experiment(te):\n",
    "\n",
    "    # Create RTApp RAMP task\n",
    "    rtapp = RTA(te.target, 'ramp', calibration=te.calibration())\n",
    "    rtapp.conf(kind='profile',\n",
    "               params={\n",
    "                    'ramp' : Ramp(\n",
    "                        start_pct =  60,\n",
    "                        end_pct   =  20,\n",
    "                        delta_pct =   5,\n",
    "                        time_s    =   0.5).get()\n",
    "              })\n",
    "\n",
    "    # FTrace the execution of this workload\n",
    "    te.ftrace.start()\n",
    "    rtapp.run(out_dir=te.res_dir)\n",
    "    te.ftrace.stop()\n",
    "\n",
    "    # Collect and keep track of the trace\n",
    "    trace_file = os.path.join(te.res_dir, 'trace.dat')\n",
    "    te.ftrace.get_trace(trace_file)\n",
    "\n",
    "    # Dump platform descriptor\n",
    "    te.platform_dump(te.res_dir)"
   ]
  },
  {
   "cell_type": "code",
   "execution_count": 6,
   "metadata": {
    "collapsed": false,
    "run_control": {
     "marked": false
    },
    "scrolled": true
   },
   "outputs": [
    {
     "name": "stderr",
     "output_type": "stream",
     "text": [
      "2016-12-07 18:20:39,906 INFO    : Workload     : Setup new workload ramp\n",
      "2016-12-07 18:20:39,907 INFO    : Workload     : Workload duration defined by longest task\n",
      "2016-12-07 18:20:39,908 INFO    : Workload     : Default policy: SCHED_OTHER\n",
      "2016-12-07 18:20:39,908 INFO    : Workload     : ------------------------\n",
      "2016-12-07 18:20:39,908 INFO    : Workload     : task [ramp], sched: using default policy\n",
      "2016-12-07 18:20:39,909 INFO    : Workload     :  | calibration CPU: 1\n",
      "2016-12-07 18:20:39,909 INFO    : Workload     :  | loops count: 1\n",
      "2016-12-07 18:20:39,909 INFO    : Workload     : + phase_000001: duration 0.500000 [s] (5 loops)\n",
      "2016-12-07 18:20:39,910 INFO    : Workload     : |  period   100000 [us], duty_cycle  60 %\n",
      "2016-12-07 18:20:39,910 INFO    : Workload     : |  run_time  60000 [us], sleep_time  40000 [us]\n",
      "2016-12-07 18:20:39,910 INFO    : Workload     : + phase_000002: duration 0.500000 [s] (5 loops)\n",
      "2016-12-07 18:20:39,911 INFO    : Workload     : |  period   100000 [us], duty_cycle  55 %\n",
      "2016-12-07 18:20:39,911 INFO    : Workload     : |  run_time  55000 [us], sleep_time  45000 [us]\n",
      "2016-12-07 18:20:39,912 INFO    : Workload     : + phase_000003: duration 0.500000 [s] (5 loops)\n",
      "2016-12-07 18:20:39,912 INFO    : Workload     : |  period   100000 [us], duty_cycle  50 %\n",
      "2016-12-07 18:20:39,913 INFO    : Workload     : |  run_time  50000 [us], sleep_time  50000 [us]\n",
      "2016-12-07 18:20:39,913 INFO    : Workload     : + phase_000004: duration 0.500000 [s] (5 loops)\n",
      "2016-12-07 18:20:39,914 INFO    : Workload     : |  period   100000 [us], duty_cycle  45 %\n",
      "2016-12-07 18:20:39,914 INFO    : Workload     : |  run_time  45000 [us], sleep_time  55000 [us]\n",
      "2016-12-07 18:20:39,916 INFO    : Workload     : + phase_000005: duration 0.500000 [s] (5 loops)\n",
      "2016-12-07 18:20:39,916 INFO    : Workload     : |  period   100000 [us], duty_cycle  40 %\n",
      "2016-12-07 18:20:39,917 INFO    : Workload     : |  run_time  40000 [us], sleep_time  60000 [us]\n",
      "2016-12-07 18:20:39,918 INFO    : Workload     : + phase_000006: duration 0.500000 [s] (5 loops)\n",
      "2016-12-07 18:20:39,919 INFO    : Workload     : |  period   100000 [us], duty_cycle  35 %\n",
      "2016-12-07 18:20:39,919 INFO    : Workload     : |  run_time  35000 [us], sleep_time  65000 [us]\n",
      "2016-12-07 18:20:39,920 INFO    : Workload     : + phase_000007: duration 0.500000 [s] (5 loops)\n",
      "2016-12-07 18:20:39,920 INFO    : Workload     : |  period   100000 [us], duty_cycle  30 %\n",
      "2016-12-07 18:20:39,921 INFO    : Workload     : |  run_time  30000 [us], sleep_time  70000 [us]\n",
      "2016-12-07 18:20:39,921 INFO    : Workload     : + phase_000008: duration 0.500000 [s] (5 loops)\n",
      "2016-12-07 18:20:39,922 INFO    : Workload     : |  period   100000 [us], duty_cycle  25 %\n",
      "2016-12-07 18:20:39,923 INFO    : Workload     : |  run_time  25000 [us], sleep_time  75000 [us]\n",
      "2016-12-07 18:20:39,923 INFO    : Workload     : + phase_000009: duration 0.500000 [s] (5 loops)\n",
      "2016-12-07 18:20:39,924 INFO    : Workload     : |  period   100000 [us], duty_cycle  20 %\n",
      "2016-12-07 18:20:39,924 INFO    : Workload     : |  run_time  20000 [us], sleep_time  80000 [us]\n",
      "2016-12-07 18:20:51,246 INFO    : Workload     : Workload execution START:\n",
      "2016-12-07 18:20:51,247 INFO    : Workload     :    /root/devlib-target/bin/rt-app /root/devlib-target/ramp_00.json 2>&1\n"
     ]
    },
    {
     "name": "stdout",
     "output_type": "stream",
     "text": [
      "\n"
     ]
    }
   ],
   "source": [
    "experiment(te)"
   ]
  },
  {
   "cell_type": "markdown",
   "metadata": {},
   "source": [
    "## Parse trace and analyse data"
   ]
  },
  {
   "cell_type": "code",
   "execution_count": 7,
   "metadata": {
    "collapsed": false
   },
   "outputs": [
    {
     "name": "stderr",
     "output_type": "stream",
     "text": [
      "2016-12-07 18:21:31,546 INFO    : root         : Content of the output folder /home/vagrant/lisa/results/IdleAnalysis\n"
     ]
    },
    {
     "name": "stdout",
     "output_type": "stream",
     "text": [
      "/home/vagrant/lisa/results/IdleAnalysis\r\n",
      "├── cluster_idle_state_residency.png\r\n",
      "├── cpu_idle_state_residency.png\r\n",
      "├── output.log\r\n",
      "├── platform.json\r\n",
      "├── ramp_00.json\r\n",
      "├── rt-app-ramp-0.log\r\n",
      "├── trace.dat\r\n",
      "├── trace.raw.txt\r\n",
      "└── trace.txt\r\n",
      "\r\n",
      "0 directories, 9 files\r\n"
     ]
    }
   ],
   "source": [
    "# Base folder where tests folder are located\n",
    "res_dir = te.res_dir\n",
    "logging.info('Content of the output folder %s', res_dir)\n",
    "!tree {res_dir}"
   ]
  },
  {
   "cell_type": "code",
   "execution_count": 8,
   "metadata": {
    "collapsed": false,
    "run_control": {
     "marked": false
    }
   },
   "outputs": [
    {
     "name": "stderr",
     "output_type": "stream",
     "text": [
      "2016-12-07 18:21:32,410 INFO    : Trace        : Parsing FTrace format...\n",
      "2016-12-07 18:21:32,664 WARNING : Trace        : Failed to load tasks names from trace events\n",
      "2016-12-07 18:21:32,665 INFO    : Trace        : Collected events spans a 14.858 [s] time interval\n",
      "2016-12-07 18:21:32,665 INFO    : Trace        : Set plots time range to (0.000000, 14.857782)[s]\n",
      "2016-12-07 18:21:32,666 INFO    : Analysis     : Registering trace analysis modules:\n",
      "2016-12-07 18:21:32,667 INFO    : Analysis     :    tasks\n",
      "2016-12-07 18:21:32,668 INFO    : Analysis     :    status\n",
      "2016-12-07 18:21:32,669 INFO    : Analysis     :    frequency\n",
      "2016-12-07 18:21:32,670 INFO    : Analysis     :    cpus\n",
      "2016-12-07 18:21:32,671 INFO    : Analysis     :    latency\n",
      "2016-12-07 18:21:32,673 INFO    : Analysis     :    idle\n",
      "2016-12-07 18:21:32,674 INFO    : Analysis     :    functions\n",
      "2016-12-07 18:21:32,675 INFO    : Analysis     :    eas\n"
     ]
    }
   ],
   "source": [
    "trace = Trace(te.platform, res_dir, events=my_conf['ftrace']['events'])"
   ]
  },
  {
   "cell_type": "markdown",
   "metadata": {},
   "source": [
    "## Per-CPU Idle State Residency Profiling"
   ]
  },
  {
   "cell_type": "markdown",
   "metadata": {},
   "source": [
    "It is possible to get the residency in each idle state of a CPU or a cluster with the following commands:"
   ]
  },
  {
   "cell_type": "code",
   "execution_count": 9,
   "metadata": {
    "collapsed": false
   },
   "outputs": [
    {
     "data": {
      "text/html": [
       "<div>\n",
       "<table border=\"1\" class=\"dataframe\">\n",
       "  <thead>\n",
       "    <tr style=\"text-align: right;\">\n",
       "      <th></th>\n",
       "      <th>time</th>\n",
       "    </tr>\n",
       "    <tr>\n",
       "      <th>idle_state</th>\n",
       "      <th></th>\n",
       "    </tr>\n",
       "  </thead>\n",
       "  <tbody>\n",
       "    <tr>\n",
       "      <th>0</th>\n",
       "      <td>0.009255</td>\n",
       "    </tr>\n",
       "    <tr>\n",
       "      <th>1</th>\n",
       "      <td>0.003381</td>\n",
       "    </tr>\n",
       "    <tr>\n",
       "      <th>2</th>\n",
       "      <td>14.483522</td>\n",
       "    </tr>\n",
       "  </tbody>\n",
       "</table>\n",
       "</div>"
      ],
      "text/plain": [
       "                 time\n",
       "idle_state           \n",
       "0            0.009255\n",
       "1            0.003381\n",
       "2           14.483522"
      ]
     },
     "execution_count": 9,
     "metadata": {},
     "output_type": "execute_result"
    }
   ],
   "source": [
    "# Idle state residency for CPU 3\n",
    "CPU=3\n",
    "state_res = trace.data_frame.cpu_idle_state_residency(CPU)\n",
    "state_res"
   ]
  },
  {
   "cell_type": "markdown",
   "metadata": {},
   "source": [
    "For the translation between the idle value and its description:"
   ]
  },
  {
   "cell_type": "code",
   "execution_count": 10,
   "metadata": {
    "collapsed": false,
    "run_control": {
     "marked": false
    }
   },
   "outputs": [
    {
     "data": {
      "text/html": [
       "<div>\n",
       "<table border=\"1\" class=\"dataframe\">\n",
       "  <thead>\n",
       "    <tr style=\"text-align: right;\">\n",
       "      <th></th>\n",
       "      <th>name</th>\n",
       "      <th>value</th>\n",
       "    </tr>\n",
       "  </thead>\n",
       "  <tbody>\n",
       "    <tr>\n",
       "      <th>0</th>\n",
       "      <td>CpuidleState(WFI, ARM64 WFI)</td>\n",
       "      <td>0</td>\n",
       "    </tr>\n",
       "    <tr>\n",
       "      <th>1</th>\n",
       "      <td>CpuidleState(cpu-sleep-0, cpu-sleep-0)</td>\n",
       "      <td>1</td>\n",
       "    </tr>\n",
       "    <tr>\n",
       "      <th>2</th>\n",
       "      <td>CpuidleState(cluster-sleep-0, cluster-sleep-0)</td>\n",
       "      <td>2</td>\n",
       "    </tr>\n",
       "  </tbody>\n",
       "</table>\n",
       "</div>"
      ],
      "text/plain": [
       "                                             name  value\n",
       "0                    CpuidleState(WFI, ARM64 WFI)      0\n",
       "1          CpuidleState(cpu-sleep-0, cpu-sleep-0)      1\n",
       "2  CpuidleState(cluster-sleep-0, cluster-sleep-0)      2"
      ]
     },
     "execution_count": 10,
     "metadata": {},
     "output_type": "execute_result"
    }
   ],
   "source": [
    "DataFrame(data={'value':  state_res.index.values,\n",
    "                'name': [te.target.cpuidle.get_state(i, cpu=CPU) for i in state_res.index.values]})"
   ]
  },
  {
   "cell_type": "markdown",
   "metadata": {},
   "source": [
    "The **IdleAnalysis** module provide methods for plotting residency data:"
   ]
  },
  {
   "cell_type": "code",
   "execution_count": 11,
   "metadata": {
    "collapsed": true
   },
   "outputs": [],
   "source": [
    "ia = trace.analysis.idle"
   ]
  },
  {
   "cell_type": "code",
   "execution_count": 12,
   "metadata": {
    "collapsed": false
   },
   "outputs": [
    {
     "data": {
      "image/png": "[encoded data removed]",
      "text/plain": [
       "<matplotlib.figure.Figure at 0x7fe5e2a1f990>"
      ]
     },
     "metadata": {},
     "output_type": "display_data"
    }
   ],
   "source": [
    "# Actual time spent in each idle state\n",
    "ia.plotCPUIdleStateResidency([1,2])"
   ]
  },
  {
   "cell_type": "code",
   "execution_count": 13,
   "metadata": {
    "collapsed": false,
    "run_control": {
     "marked": false
    }
   },
   "outputs": [
    {
     "data": {
      "image/png": "[encoded data removed]",
      "text/plain": [
       "<matplotlib.figure.Figure at 0x7fe5e28d6610>"
      ]
     },
     "metadata": {},
     "output_type": "display_data"
    }
   ],
   "source": [
    "# Percentage of time spent in each idle state\n",
    "ia.plotCPUIdleStateResidency([1,2], pct=True)"
   ]
  },
  {
   "cell_type": "markdown",
   "metadata": {},
   "source": [
    "## Per-cluster Idle State Residency"
   ]
  },
  {
   "cell_type": "code",
   "execution_count": 14,
   "metadata": {
    "collapsed": false
   },
   "outputs": [
    {
     "data": {
      "text/html": [
       "<div>\n",
       "<table border=\"1\" class=\"dataframe\">\n",
       "  <thead>\n",
       "    <tr style=\"text-align: right;\">\n",
       "      <th></th>\n",
       "      <th>time</th>\n",
       "    </tr>\n",
       "    <tr>\n",
       "      <th>idle_state</th>\n",
       "      <th></th>\n",
       "    </tr>\n",
       "  </thead>\n",
       "  <tbody>\n",
       "    <tr>\n",
       "      <th>0</th>\n",
       "      <td>0.022823</td>\n",
       "    </tr>\n",
       "    <tr>\n",
       "      <th>1</th>\n",
       "      <td>0.010507</td>\n",
       "    </tr>\n",
       "    <tr>\n",
       "      <th>2</th>\n",
       "      <td>7.827988</td>\n",
       "    </tr>\n",
       "  </tbody>\n",
       "</table>\n",
       "</div>"
      ],
      "text/plain": [
       "                time\n",
       "idle_state          \n",
       "0           0.022823\n",
       "1           0.010507\n",
       "2           7.827988"
      ]
     },
     "execution_count": 14,
     "metadata": {},
     "output_type": "execute_result"
    }
   ],
   "source": [
    "# Idle state residency for CPUs in the big cluster\n",
    "trace.data_frame.cluster_idle_state_residency('big')"
   ]
  },
  {
   "cell_type": "code",
   "execution_count": 15,
   "metadata": {
    "collapsed": false
   },
   "outputs": [
    {
     "data": {
      "image/png": "[encoded data removed]",
      "text/plain": [
       "<matplotlib.figure.Figure at 0x7fe5e26cd4d0>"
      ]
     },
     "metadata": {},
     "output_type": "display_data"
    }
   ],
   "source": [
    "# Actual time spent in each idle state for CPUs in the big and LITTLE clusters\n",
    "ia.plotClusterIdleStateResidency(['big', 'LITTLE'])"
   ]
  },
  {
   "cell_type": "code",
   "execution_count": 16,
   "metadata": {
    "collapsed": false
   },
   "outputs": [
    {
     "data": {
      "image/png": "[encoded data removed]",
      "text/plain": [
       "<matplotlib.figure.Figure at 0x7fe5e274a210>"
      ]
     },
     "metadata": {},
     "output_type": "display_data"
    }
   ],
   "source": [
    "# Percentage of time spent in each idle state for CPUs in the big and LITTLE clusters\n",
    "ia.plotClusterIdleStateResidency(['big', 'LITTLE'], pct=True)"
   ]
  }
 ],
 "metadata": {
  "kernelspec": {
   "display_name": "Python 2",
   "language": "python",
   "name": "python2"
  },
  "language_info": {
   "codemirror_mode": {
    "name": "ipython",
    "version": 2
   },
   "file_extension": ".py",
   "mimetype": "text/x-python",
   "name": "python",
   "nbconvert_exporter": "python",
   "pygments_lexer": "ipython2",
   "version": "2.7.6"
  },
  "toc": {
   "toc_cell": false,
   "toc_number_sections": true,
   "toc_threshold": 6,
   "toc_window_display": true
  }
 },
 "nbformat": 4,
 "nbformat_minor": 0
}
